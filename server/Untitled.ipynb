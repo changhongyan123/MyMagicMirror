{
 "cells": [
  {
   "cell_type": "code",
   "execution_count": 1,
   "metadata": {
    "collapsed": true
   },
   "outputs": [],
   "source": [
    "import pandas as pd\n",
    "\n",
    "data_matrix = pd.read_csv('emo_fea_unscaled.csv',delimiter=',').values\n",
    "data_labels = pd.read_csv('emo_tag.csv').values"
   ]
  },
  {
   "cell_type": "code",
   "execution_count": 3,
   "metadata": {
    "collapsed": false
   },
   "outputs": [
    {
     "name": "stdout",
     "output_type": "stream",
     "text": [
      "[[  1.14551000e-01   5.63636700e-05   1.14494600e-01 ...,   2.27984300e+01\n",
      "    4.63899700e-02   6.71184700e+00]\n",
      " [  5.44537500e-02   5.47077000e-05   5.43990400e-02 ...,   3.11246700e+01\n",
      "   -5.36006400e-02   6.01914400e+00]\n",
      " [  9.60255300e-02   5.12284800e-05   9.59743000e-02 ...,   2.95987300e+01\n",
      "   -4.33502100e-01   5.60316800e+00]\n",
      " ..., \n",
      " [  4.93258000e-02   5.95586600e-05   4.92662400e-02 ...,   1.85498100e+01\n",
      "    1.45206400e-01   7.19150200e+00]\n",
      " [  4.07980800e-02   5.86983100e-05   4.07393800e-02 ...,   1.64670700e+01\n",
      "    4.96300400e-01   1.31935700e+01]\n",
      " [  8.31638200e-02   5.75023900e-05   8.31063200e-02 ...,   1.43136400e+01\n",
      "    1.89637700e-01   1.17985800e+01]]\n",
      "[['angry']\n",
      " ['angry']\n",
      " ['angry']\n",
      " ..., \n",
      " ['surprise']\n",
      " ['surprise']\n",
      " ['surprise']]\n"
     ]
    }
   ],
   "source": [
    "print data_matrix\n",
    "print data_labels"
   ]
  },
  {
   "cell_type": "code",
   "execution_count": null,
   "metadata": {
    "collapsed": true
   },
   "outputs": [],
   "source": []
  }
 ],
 "metadata": {
  "kernelspec": {
   "display_name": "Python 2",
   "language": "python",
   "name": "python2"
  },
  "language_info": {
   "codemirror_mode": {
    "name": "ipython",
    "version": 2
   },
   "file_extension": ".py",
   "mimetype": "text/x-python",
   "name": "python",
   "nbconvert_exporter": "python",
   "pygments_lexer": "ipython2",
   "version": "2.7.12"
  }
 },
 "nbformat": 4,
 "nbformat_minor": 1
}
